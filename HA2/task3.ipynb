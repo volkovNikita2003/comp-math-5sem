{
 "cells": [
  {
   "cell_type": "markdown",
   "metadata": {},
   "source": [
    "# Задача 3\n",
    "Решить краевую задачу\\\n",
    "$\n",
    "\\begin{cases}\n",
    "    y'' + (x^2 - 3)y' + (x^2 - 3)\\cos x \\cdot y = 2 - 6x + 2x^3 + (x^2 - 3)e^x \\sin x (1 + \\cos x) + \\cos x (e^x + (x^2-1) + x^4 - 3x^2)\\\\\n",
    "    y(0) = 0\\\\\n",
    "    y(\\pi) = \\pi ^ 2\n",
    "\\end{cases}\n",
    "$"
   ]
  },
  {
   "cell_type": "markdown",
   "metadata": {},
   "source": [
    "## 1. Метод прогонки\n",
    "Задача линейная, дискретизуем и сводем к системе линейных уравнений, которую решим методом прогонки\\\n",
    "**Метод неустойчивый!**"
   ]
  },
  {
   "cell_type": "code",
   "execution_count": 15,
   "metadata": {},
   "outputs": [],
   "source": [
    "from math import exp, sin, cos, pi\n",
    "import numpy as np\n",
    "import pandas as pd\n",
    "import matplotlib.pyplot as plt"
   ]
  },
  {
   "cell_type": "code",
   "execution_count": 7,
   "metadata": {},
   "outputs": [],
   "source": [
    "# метод прогонки (tridiagonal matrix algorithm)\n",
    "def TMA(a_arr, b_arr, c_arr, d_arr):\n",
    "    N_pr = len(a_arr)\n",
    "    p_arr = [0] * N_pr\n",
    "    q_arr = [0] * N_pr\n",
    "    x_arr = [0] * N_pr\n",
    "\n",
    "    # i = 0\n",
    "    p_arr[1] = -c_arr[0] / b_arr[0]\n",
    "    q_arr[1] = d_arr[0] / b_arr[0]\n",
    "\n",
    "    # i = 1, ..., N - 1\n",
    "    for i in range(2, N_pr, 1):\n",
    "        p_arr[i] = -c_arr[i - 1] / (a_arr[i - 1] * p_arr[i - 1] + b_arr[i - 1])\n",
    "        q_arr[i] = (d_arr[i - 1] - a_arr[i - 1] * q_arr[i - 1]) / (a_arr[i - 1] * p_arr[i - 1] + b_arr[i - 1])\n",
    "\n",
    "    x_arr[N_pr - 1] = (d_arr[N_pr - 1] - a_arr[N_pr - 1] * q_arr[N_pr - 1]) / (p_arr[N_pr - 1] * a_arr[N_pr - 1] + b_arr[N_pr - 1])\n",
    "    \n",
    "    # обратный ход\n",
    "    for i in range(N_pr - 2, -1, -1):\n",
    "        x_arr[i] = x_arr[i + 1] * p_arr[i + 1] + q_arr[i + 1]\n",
    "    \n",
    "    return x_arr\n",
    "\n",
    "\n",
    "# функции (коэффициенты в уравнении)\n",
    "def g(x):\n",
    "    # x - точка\n",
    "    # y - начальное приближение в точке x\n",
    "    # y_der1 - производная начального приближения в точке x\n",
    "    # y_der2 - вторая производная начального приближения в точке x\n",
    "    return x ** 2 - 3\n",
    "\n",
    "def h(x):\n",
    "    return x ** 2 - 3\n",
    "\n",
    "def f(x):\n",
    "    return 2 - 6 * x + 2 * x ** 3 + (x ** 2 - 3) * exp(x) * sin(x) * (1 + cos(x)) + cos(x) * (exp(x) + (x ** 2 - 1) + x ** 4 - 3 * x ** 2)\n",
    "\n",
    "\n",
    "# вектор-функции (коэффициенты в уравнении)\n",
    "def g_vec(x_arr):\n",
    "    N = len(x_arr)\n",
    "    ret = [None] * N\n",
    "    for i in range(N):\n",
    "        ret[i] = g(x_arr[i])\n",
    "    return ret\n",
    "\n",
    "def h_vec(x_arr):\n",
    "    N = len(x_arr)\n",
    "    ret = [None] * N\n",
    "    for i in range(N):\n",
    "        ret[i] = h(x_arr[i])\n",
    "    return ret\n",
    "\n",
    "def f_vec(x_arr):\n",
    "    N = len(x_arr)\n",
    "    ret = [None] * N\n",
    "    for i in range(N):\n",
    "        ret[i] = f(x_arr[i])\n",
    "    return ret\n",
    "\n",
    "\n",
    "# коэффициенты для матрицы из метода прогонки\n",
    "def a_n(tau, g_n, h_n, f_n):\n",
    "    return 1 + tau * g_n\n",
    "\n",
    "def b_n(tau, g_n, h_n, f_n):\n",
    "    return -2 - tau * g_n + tau ** 2 * h_n\n",
    "\n",
    "def c_n(tau, g_n, h_n, f_n):\n",
    "    return 1\n",
    "\n",
    "def d_n(tau, g_n, h_n, f_n):\n",
    "    return tau ** 2 * f_n\n",
    "\n",
    "\n",
    "# векторы коэффициентов для матрицы из метода прогонки\n",
    "def a_n_vec(tau, g_n_arr, h_n_arr, f_n_arr):\n",
    "    # a(0) = a(N) = 0, a(n) при n = 1, ..., N-1 вычисляются\n",
    "    N = len(g_n_arr)\n",
    "    ret = [0] * N\n",
    "    for i in range(1, N - 1, 1):\n",
    "        ret[i] = a_n(tau, g_n_arr[i], h_n_arr[i], f_n_arr[i])\n",
    "    return ret\n",
    "\n",
    "def b_n_vec(tau, g_n_arr, h_n_arr, f_n_arr):\n",
    "    # b(0) = b(N) = 1, b(n) при n = 1, ..., N-1 вычисляются\n",
    "    N = len(g_n_arr)\n",
    "    ret = [1] * N\n",
    "    for i in range(1, N - 1, 1):\n",
    "        ret[i] = b_n(tau, g_n_arr[i], h_n_arr[i], f_n_arr[i])\n",
    "    return ret\n",
    "\n",
    "def c_n_vec(tau, g_n_arr, h_n_arr, f_n_arr):\n",
    "    # c(0) = c(N) = 0, c(n) при n = 1, ..., N-1 вычисляются\n",
    "    N = len(g_n_arr)\n",
    "    ret = [0] * N\n",
    "    for i in range(1, N - 1, 1):\n",
    "        ret[i] = c_n(tau, g_n_arr[i], h_n_arr[i], f_n_arr[i])\n",
    "    return ret\n",
    "\n",
    "def d_n_vec(tau, g_n_arr, h_n_arr, f_n_arr):\n",
    "    # d(0) = 0, d(N) = pi ** 2, d(n) при n = 1, ..., N-1 вычисляются\n",
    "    N = len(g_n_arr)\n",
    "    ret = [0] * N\n",
    "    ret[-1] = pi ** 2\n",
    "    for i in range(1, N - 1, 1):\n",
    "        ret[i] = d_n(tau, g_n_arr[i], h_n_arr[i], f_n_arr[i])\n",
    "    return ret\n"
   ]
  },
  {
   "cell_type": "code",
   "execution_count": 13,
   "metadata": {},
   "outputs": [
    {
     "name": "stdout",
     "output_type": "stream",
     "text": [
      "-9.143092700930568 9.869604401089358\n"
     ]
    }
   ],
   "source": [
    "# сетка\n",
    "x_start = 0\n",
    "x_end = pi\n",
    "N_grid = 1000 + 1\n",
    "x_grid, tau = np.linspace(x_start, x_end, N_grid, retstep=True)\n",
    "\n",
    "# проекция на сетку функций (коэффициентов в уравнении)\n",
    "g_grid = g_vec(x_grid)\n",
    "h_grid = h_vec(x_grid)\n",
    "f_grid = f_vec(x_grid)\n",
    "\n",
    "# коэффициенты матрицы для метода прогонки\n",
    "a_arr = a_n_vec(tau, g_grid, h_grid, f_grid)\n",
    "b_arr = b_n_vec(tau, g_grid, h_grid, f_grid)\n",
    "c_arr = c_n_vec(tau, g_grid, h_grid, f_grid)\n",
    "d_arr = d_n_vec(tau, g_grid, h_grid, f_grid)\n",
    "\n",
    "# метод прогонки\n",
    "y_vect = TMA(a_arr, b_arr, c_arr, d_arr)\n",
    "print(min(y_vect), max(y_vect))"
   ]
  },
  {
   "cell_type": "code",
   "execution_count": 14,
   "metadata": {},
   "outputs": [
    {
     "name": "stdout",
     "output_type": "stream",
     "text": [
      "-3.0 6.869604401089358\n"
     ]
    }
   ],
   "source": [
    "print(min(h_grid), max(h_grid))"
   ]
  },
  {
   "cell_type": "code",
   "execution_count": 17,
   "metadata": {},
   "outputs": [
    {
     "data": {
      "image/png": "[encoded data removed]",
      "text/plain": [
       "<Figure size 640x480 with 1 Axes>"
      ]
     },
     "metadata": {},
     "output_type": "display_data"
    }
   ],
   "source": [
    "plt.plot(x_grid, h_grid)\n",
    "plt.grid()"
   ]
  },
  {
   "cell_type": "markdown",
   "metadata": {},
   "source": [
    "т.к. условие $h(x) < 0$ выполнено не для любого $x$, то метод **неустойчивый!**"
   ]
  },
  {
   "cell_type": "markdown",
   "metadata": {},
   "source": [
    "## Метод пристрелки\n",
    "Пусть $y' = \\upsilon$, тогда \\\n",
    "$\n",
    "\\begin{cases}\n",
    "   y' = \\upsilon \\\\\n",
    "   \\upsilon ' + (x^2 - 3) \\upsilon + (x^2 - 3)\\cos x \\cdot y = h(x)\\\\\n",
    "   y(0) = 0\\\\\n",
    "   y(\\pi) = \\pi ^ 2\n",
    "\\end{cases}\n",
    "$\\\n",
    "Перейдем к задаче Коши:\\\n",
    "$\n",
    "\\begin{cases}\n",
    "   y' = \\upsilon \\\\\n",
    "   \\upsilon ' = - (x^2 - 3) \\upsilon - (x^2 - 3)\\cos x \\cdot y + h(x)\\\\\n",
    "   y(0) = 0\\\\\n",
    "   \\upsilon(0) = \\alpha\n",
    "\\end{cases}\n",
    "$ \\\n",
    "Переобозначим $x \\rightarrow t; y \\rightarrow x; \\upsilon \\rightarrow y$\\\n",
    "$\n",
    "\\begin{cases}\n",
    "   x' = y = f(t, x, y)\\\\\n",
    "   y' = - (t^2 - 3) y - (t^2 - 3)\\cos t \\cdot x + h(t) = g(t, x, y)\\\\\n",
    "   x(0) = 0\\\\\n",
    "   y(0) = \\alpha\n",
    "\\end{cases}\n",
    "$ \\\n",
    "Решаем систему методом Рунге-Кутты (классическая схема 4 порядка).  Подбор параметра $\\alpha$ производим методом половинного деления"
   ]
  },
  {
   "cell_type": "code",
   "execution_count": null,
   "metadata": {},
   "outputs": [],
   "source": []
  }
 ],
 "metadata": {
  "kernelspec": {
   "display_name": "Python 3",
   "language": "python",
   "name": "python3"
  },
  "language_info": {
   "codemirror_mode": {
    "name": "ipython",
    "version": 3
   },
   "file_extension": ".py",
   "mimetype": "text/x-python",
   "name": "python",
   "nbconvert_exporter": "python",
   "pygments_lexer": "ipython3",
   "version": "3.10.12"
  }
 },
 "nbformat": 4,
 "nbformat_minor": 2
}
