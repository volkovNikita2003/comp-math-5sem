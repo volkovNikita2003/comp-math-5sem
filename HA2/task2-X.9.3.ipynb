{
 "cells": [
  {
   "cell_type": "markdown",
   "metadata": {},
   "source": [
    "# X.9.3.\n",
    "Уравнение Релея во многом похоже на уравнение Ван-дер-Поля [11]. Рассматривается задача вида\\\n",
    "$\\dfrac{d^2x}{dt^2} - \\mu \\left( 1 - \\left( \\dfrac{dx}{dt}\\right) ^ 2 \\right) \\dfrac{dx}{dt} + x = 0$.\\\n",
    "Решить задачу, записав уравнение Релея в виде системы ОДУ. Начальные\n",
    "условия: $x(0) = 0, \\dot x (0) = 0,001, \\mu = 1000, T_k = 1000$"
   ]
  },
  {
   "cell_type": "markdown",
   "metadata": {},
   "source": [
    "Пусть $y = x'$. Тогда представим уравнение в виде системы\\\n",
    "$\n",
    "\\begin{cases}\n",
    "    x' = y\\\\\n",
    "    y' = \\mu (1 - y^2)y - x \\\\\n",
    "    x(0) = 0\\\\\n",
    "    y(0) = 0,001 \\\\\n",
    "\\end{cases}\n",
    "$ \\\n",
    "Решаем систему методом Рунге-Кутты (классическая схема 4 порядка). "
   ]
  },
  {
   "cell_type": "code",
   "execution_count": 1,
   "metadata": {},
   "outputs": [],
   "source": [
    "import numpy as np\n",
    "import pandas as pd\n",
    "import matplotlib.pyplot as plt"
   ]
  },
  {
   "cell_type": "code",
   "execution_count": 2,
   "metadata": {},
   "outputs": [],
   "source": [
    "mu = 1000\n",
    "Tk = 1000\n",
    "x_0 = 0\n",
    "y_0 = 0.001\n",
    "\n",
    "\n",
    "def f(t, x, y):\n",
    "    return y\n",
    "\n",
    "def g(t, x, y):\n",
    "    return mu * (1 - y ** 2) * y - x"
   ]
  },
  {
   "cell_type": "code",
   "execution_count": 3,
   "metadata": {},
   "outputs": [],
   "source": [
    "def ODE(t_grid, tau, x_0, y_0):\n",
    "    x_grid = [x_0]\n",
    "    y_grid = [y_0]\n",
    "    for i in range(len(t_grid) - 1):\n",
    "        k1 = f(t_grid[i], x_grid[i], y_grid[i])\n",
    "        m1 = g(t_grid[i], x_grid[i], y_grid[i])\n",
    "        k2 = f(t_grid[i] + tau / 2, x_grid[i] + tau / 2 * k1, y_grid[i] + tau / 2 * m1)\n",
    "        m2 = g(t_grid[i] + tau / 2, x_grid[i] + tau / 2 * k1, y_grid[i] + tau / 2 * m1)\n",
    "        k3 = f(t_grid[i] + tau / 2, x_grid[i] + tau / 2 * k2, y_grid[i] + tau / 2 * m2)\n",
    "        m3 = g(t_grid[i] + tau / 2, x_grid[i] + tau / 2 * k2, y_grid[i] + tau / 2 * m2)\n",
    "        k4 = f(t_grid[i] + tau, x_grid[i] + tau * k3, y_grid[i] + tau * m3)\n",
    "        m4 = g(t_grid[i] + tau, x_grid[i] + tau * k3, y_grid[i] + tau * m3)\n",
    "        x_n1 = x_grid[i] + tau / 6 * (k1 + 2 * k2 + 2 * k3 + k4)\n",
    "        y_n1 = y_grid[i] + tau / 6 * (m1 + 2 * m2 + 2 * m3 + m4)\n",
    "        x_grid.append(x_n1)\n",
    "        y_grid.append(y_n1)\n",
    "    return x_grid, y_grid"
   ]
  },
  {
   "cell_type": "code",
   "execution_count": 16,
   "metadata": {},
   "outputs": [],
   "source": [
    "t_min = 0\n",
    "t_max = Tk\n",
    "\n",
    "N_0 = 10**6 + 1\n",
    "# N_max = 12\n",
    "N = N_0\n",
    "# while N < N_max:\n",
    "t_grid, tau = np.linspace(t_min, t_max, N, retstep=True)\n",
    "x_grid, y_grid = ODE(t_grid, tau, x_0, y_0)\n",
    "\n",
    "N2 = N * 2 - 1\n",
    "t_grid2, tau2 = np.linspace(t_min, t_max, N2, retstep=True)\n",
    "x_grid2, y_grid2 = ODE(t_grid2, tau2, x_0, y_0)\n",
    "\n",
    "N3 = N2 * 2 - 1\n",
    "t_grid3, tau3 = np.linspace(t_min, t_max, N3, retstep=True)\n",
    "x_grid3, y_grid3 = ODE(t_grid3, tau3, x_0, y_0)\n"
   ]
  },
  {
   "cell_type": "code",
   "execution_count": 5,
   "metadata": {},
   "outputs": [],
   "source": [
    "def norm(y1, y2):\n",
    "    N = len(y1)\n",
    "    val = -1\n",
    "    for i in range(N):\n",
    "        val = max(val, abs(y1[i] - y2[i]))\n",
    "    return val"
   ]
  },
  {
   "cell_type": "code",
   "execution_count": 17,
   "metadata": {},
   "outputs": [
    {
     "name": "stdout",
     "output_type": "stream",
     "text": [
      "norm(N, N2) = 3.866943351649695\n",
      "norm(N2, N3) = 4.648122967410018e-06\n"
     ]
    }
   ],
   "source": [
    "print(f\"norm(N, N2) = {norm(x_grid, [x_grid2[i] for i in range(0, N2, 2)])}\")\n",
    "print(f\"norm(N2, N3) = {norm(x_grid2, [x_grid3[i] for i in range(0, N3, 2)])}\")"
   ]
  },
  {
   "cell_type": "code",
   "execution_count": 18,
   "metadata": {},
   "outputs": [
    {
     "data": {
      "text/plain": [
       "[<matplotlib.lines.Line2D at 0x7fb1a816e320>]"
      ]
     },
     "execution_count": 18,
     "metadata": {},
     "output_type": "execute_result"
    },
    {
     "data": {
      "image/png": "[encoded data removed]",
      "text/plain": [
       "<Figure size 640x480 with 1 Axes>"
      ]
     },
     "metadata": {},
     "output_type": "display_data"
    }
   ],
   "source": [
    "plt.plot(t_grid, x_grid, label=f\"N = {N}\")\n",
    "plt.plot(t_grid2, x_grid2, label=f\"N = {N2}\")\n",
    "plt.plot(t_grid3, x_grid3, label=f\"N = {N3}\")"
   ]
  }
 ],
 "metadata": {
  "kernelspec": {
   "display_name": "Python 3",
   "language": "python",
   "name": "python3"
  },
  "language_info": {
   "codemirror_mode": {
    "name": "ipython",
    "version": 3
   },
   "file_extension": ".py",
   "mimetype": "text/x-python",
   "name": "python",
   "nbconvert_exporter": "python",
   "pygments_lexer": "ipython3",
   "version": "3.10.12"
  }
 },
 "nbformat": 4,
 "nbformat_minor": 2
}
