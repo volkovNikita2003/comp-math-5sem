{
 "cells": [
  {
   "cell_type": "markdown",
   "metadata": {},
   "source": [
    "# IV.12.8(b)\n",
    "Методом простой итерации найти ширину функции $f(x) = x e^{-x^2}, \\; x \\geq 0$ на полувысоте с точностью $\\varepsilon = 10^{-3}$\\\n",
    "\n",
    "Найдем высоту $h$. $f'(x) = (1 - 2x^2) e^{-x^2} = 0$. Отсюда $x_0 = \\dfrac{1}{\\sqrt{2}}$\\\n",
    "$h = f(x_0)$\\\n",
    "\n",
    "Ищем корни $x_1$ и $x_2$ уравнения $g(x) = f(x) - f(x_0)/2$\\\n",
    "$l = |x_2 - x_1| - $ искомая ширина функции на полувысоте\\\n",
    "Чтобы точность была $\\varepsilon$, корни $x_1$ и $x_2$ нужно находить с точностью не хуже $\\varepsilon/2$"
   ]
  },
  {
   "cell_type": "code",
   "execution_count": 29,
   "metadata": {},
   "outputs": [],
   "source": [
    "from math import exp, sqrt, log"
   ]
  },
  {
   "cell_type": "code",
   "execution_count": 30,
   "metadata": {},
   "outputs": [],
   "source": [
    "eps = 10 ** (-3)"
   ]
  },
  {
   "cell_type": "code",
   "execution_count": 31,
   "metadata": {},
   "outputs": [],
   "source": [
    "def f(x):\n",
    "    return x * exp(- x ** 2)\n",
    "\n",
    "x_0 = 1 / sqrt(2)\n",
    "C = f(x_0) / 2\n",
    "\n",
    "def g(x):\n",
    "    return f(x) - C"
   ]
  },
  {
   "cell_type": "markdown",
   "metadata": {},
   "source": [
    "## Локализация корней"
   ]
  },
  {
   "cell_type": "code",
   "execution_count": 32,
   "metadata": {},
   "outputs": [
    {
     "name": "stdout",
     "output_type": "stream",
     "text": [
      "g(0) = -0.214\n",
      "g(1) = 0.153\n",
      "g(2) = -0.178\n",
      "g(0.9) = 0.186\n"
     ]
    }
   ],
   "source": [
    "for i in range(3):\n",
    "    print(f\"g({i}) = {g(i):.3f}\")\n",
    "print(f\"g({0.9}) = {g(0.9):.3f}\")"
   ]
  },
  {
   "cell_type": "markdown",
   "metadata": {},
   "source": [
    "Итого $x_1 \\in [0; 0.9]; \\; x_2 \\in [1; 2]$"
   ]
  },
  {
   "cell_type": "markdown",
   "metadata": {},
   "source": [
    "## Уточнение кореней"
   ]
  },
  {
   "cell_type": "markdown",
   "metadata": {},
   "source": [
    "1. Отрезок $x_1 \\in [0; 0.9]$\\\n",
    "$g(x) = f(x) - f(x_0)/2 = x e^{-x^2} - C = 0 \\; \\Rightarrow \\; x^{n+1} = \\varphi(x^n) = Ce^{(x^n)^2}$. Графически определим, что $|\\varphi ' (x)| < 1$ при $x \\in [0; 0.9] \\; \\Rightarrow$ метод сходится\n",
    "\n",
    "Условие остановки выбрано $|x^{n+1} - x^n| \\leq \\varepsilon / 10$, чтобы точно зафиксировать 3 знака после запятой"
   ]
  },
  {
   "cell_type": "code",
   "execution_count": 33,
   "metadata": {},
   "outputs": [
    {
     "name": "stdout",
     "output_type": "stream",
     "text": [
      "x^1 = 0.26257\n",
      "x^2 = 0.22975\n",
      "x^3 = 0.22606\n",
      "x^4 = 0.22568\n",
      "x^5 = 0.22565\n"
     ]
    }
   ],
   "source": [
    "x_1 = 0.45\n",
    "x_1_cur = C * exp(x_1 ** 2)\n",
    "i = 1\n",
    "print(f\"x^{i} = {x_1_cur:.5f}\")\n",
    "while abs(x_1_cur - x_1) > eps / 10:\n",
    "    i += 1\n",
    "    x_1 = x_1_cur\n",
    "    x_1_cur = C * exp(x_1 ** 2)\n",
    "    print(f\"x^{i} = {x_1_cur:.5f}\")"
   ]
  },
  {
   "cell_type": "markdown",
   "metadata": {},
   "source": [
    "2. Отрезок $x_2 \\in [1; 2]$\\\n",
    "$g(x) = f(x) - f(x_0)/2 = x e^{-x^2} - C = 0 \\; \\Rightarrow \\; x^{n+1} = \\varphi(x^n) = \\sqrt{-\\ln{\\dfrac{C}{x}}}$. На отрезке функция $\\varphi(x)$ определена и $|\\varphi '(x)| < 1 \\; \\Rightarrow$ метод сходится\n",
    "\n",
    "Условие остановки выбрано $|x^{n+1} - x^n| \\leq \\varepsilon / 10$, чтобы точно зафиксировать 3 знака после запятой"
   ]
  },
  {
   "cell_type": "code",
   "execution_count": 35,
   "metadata": {},
   "outputs": [
    {
     "name": "stdout",
     "output_type": "stream",
     "text": [
      "x^1 = 1.39470\n",
      "x^2 = 1.36836\n",
      "x^3 = 1.36137\n",
      "x^4 = 1.35949\n",
      "x^5 = 1.35898\n",
      "x^6 = 1.35884\n",
      "x^7 = 1.35881\n"
     ]
    }
   ],
   "source": [
    "x_2 = 1.5\n",
    "x_2_cur = sqrt(-log(C/x_2))\n",
    "i = 1\n",
    "print(f\"x^{i} = {x_2_cur:.5f}\")\n",
    "while abs(x_2_cur - x_2) > eps / 10:\n",
    "    i += 1\n",
    "    x_2 = x_2_cur\n",
    "    x_2_cur = sqrt(-log(C/x_2))\n",
    "    print(f\"x^{i} = {x_2_cur:.5f}\")"
   ]
  },
  {
   "cell_type": "markdown",
   "metadata": {},
   "source": [
    "Итого: $x_1 = 0.2256, x_2 = 1.3588$. Значит искомая ширина функции на полувысоте\\\n",
    "**$l = x_2 - x_1 = 1.1332$**"
   ]
  }
 ],
 "metadata": {
  "kernelspec": {
   "display_name": "Python 3",
   "language": "python",
   "name": "python3"
  },
  "language_info": {
   "codemirror_mode": {
    "name": "ipython",
    "version": 3
   },
   "file_extension": ".py",
   "mimetype": "text/x-python",
   "name": "python",
   "nbconvert_exporter": "python",
   "pygments_lexer": "ipython3",
   "version": "3.10.12"
  }
 },
 "nbformat": 4,
 "nbformat_minor": 2
}
