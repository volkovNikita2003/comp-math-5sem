{
 "cells": [
  {
   "cell_type": "markdown",
   "metadata": {},
   "source": [
    " # Задача 2\n",
    " Вычислить интреграл\\\n",
    " $I = \\int_0^3 sin(100x) \\cdot e^{-x^2} \\cdot cos(2x) dx $\\\n",
    " Значение, посчитанное в онлайн калькуляторе: $I = 0.01000609786033173$"
   ]
  },
  {
   "cell_type": "code",
   "execution_count": 3,
   "metadata": {},
   "outputs": [],
   "source": [
    "from math import sin, cos, exp\n",
    "\n",
    "\n",
    "def f(x):\n",
    "    return sin(100 * x) * exp(-x ** 2) * cos(2 * x)\n",
    "\n",
    "# пределы интегрирования\n",
    "x_start = 0\n",
    "x_end = 3"
   ]
  },
  {
   "cell_type": "markdown",
   "metadata": {},
   "source": [
    "## Метод средних прямоугольников\n",
    "Используем равномерную сетку с $N$ узлами"
   ]
  },
  {
   "cell_type": "code",
   "execution_count": 22,
   "metadata": {},
   "outputs": [
    {
     "name": "stdout",
     "output_type": "stream",
     "text": [
      "I = 0.010006472943783132\n"
     ]
    }
   ],
   "source": [
    "import numpy as np\n",
    "\n",
    "N = 10 ** 4\n",
    "x = np.linspace(x_start, x_end, N)\n",
    "I = 0\n",
    "for i in range(len(x) - 1):\n",
    "    I += f((x[i] + x[i + 1]) / 2) * (x[i + 1] - x[i])\n",
    "print(f\"I = {I}\")"
   ]
  },
  {
   "cell_type": "markdown",
   "metadata": {},
   "source": [
    "Метод средних прямоугольников, $N = 10^4$: $I = 0.010006472943783132$\\\n",
    "Онлайн калькулятор: $I = 0.01000609786033173$\n",
    "\n",
    "| Способ вычисления                         | $I$                  |\n",
    "|-------------------------------------------|----------------------|\n",
    "| Метод средних прямоугольников, $N = 10^4$ | 0.010006472943783132 |\n",
    "| Онлайн калькулятор                        | 0.01000609786033173  |\n"
   ]
  }
 ],
 "metadata": {
  "kernelspec": {
   "display_name": "Python 3",
   "language": "python",
   "name": "python3"
  },
  "language_info": {
   "codemirror_mode": {
    "name": "ipython",
    "version": 3
   },
   "file_extension": ".py",
   "mimetype": "text/x-python",
   "name": "python",
   "nbconvert_exporter": "python",
   "pygments_lexer": "ipython3",
   "version": "3.10.12"
  }
 },
 "nbformat": 4,
 "nbformat_minor": 2
}
