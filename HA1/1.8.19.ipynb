{
 "cells": [
  {
   "cell_type": "markdown",
   "metadata": {},
   "source": [
    "# I.8.19"
   ]
  },
  {
   "cell_type": "markdown",
   "metadata": {},
   "source": [
    "$|\\Delta u| \\leq \\left| \\dfrac{u^{(n+1)}(0)}{(n+1)!}t^{n+1} \\right|$"
   ]
  },
  {
   "cell_type": "markdown",
   "metadata": {},
   "source": [
    "Если $u(t) = \\sin t$, то $|\\sin t| \\leq 1, |\\cos t| \\leq 1$; Если $u(t) = e^t$, то $u^{(n+1)}(0) = e^0 = 1$\n",
    "## 1. $t \\in [0;1]$\n",
    "$t \\leq 1$, значит в обоих случаях верна оценка $|\\Delta u| \\leq \\left| \\dfrac{1}{(n+1)!} \\right| \\leq \\Delta t$\\\n",
    "Отсюда получаем $(n + 1)! \\geq \\dfrac{1}{\\Delta t}$"
   ]
  },
  {
   "cell_type": "code",
   "execution_count": 3,
   "metadata": {},
   "outputs": [
    {
     "name": "stdout",
     "output_type": "stream",
     "text": [
      "n = 1, Delta_u = 0.5000\n",
      "n = 2, Delta_u = 0.1667\n",
      "n = 3, Delta_u = 0.0417\n",
      "n = 4, Delta_u = 0.0083\n",
      "n = 5, Delta_u = 0.0014\n",
      "n = 6, Delta_u = 0.0002\n",
      "Искомое n = 6\n"
     ]
    }
   ],
   "source": [
    "Delta_t = 10 ** (-3)\n",
    "n = 0\n",
    "Delta_u = 1  # ошибка при n = 0\n",
    "while Delta_u > Delta_t:\n",
    "    n += 1\n",
    "    Delta_u /= (n + 1)\n",
    "    print(f\"n = {n}, Delta_u = {Delta_u:.4f}\")\n",
    "print(f\"Искомое n = {n}\")"
   ]
  },
  {
   "cell_type": "markdown",
   "metadata": {},
   "source": [
    "## 2. $t \\in [10; 11]$\n",
    "$|\\sin t| \\leq 1, |\\cos t| \\leq 1, t \\leq 11$, значит в обоих случаях верна оценка $|\\Delta u| \\leq \\left| \\dfrac{11^{n+1}}{(n+1)!} \\right| \\leq \\Delta t$"
   ]
  },
  {
   "cell_type": "code",
   "execution_count": 1,
   "metadata": {},
   "outputs": [
    {
     "name": "stdout",
     "output_type": "stream",
     "text": [
      "n = 1, Delta_u = 60.5000\n",
      "n = 2, Delta_u = 221.8333\n",
      "n = 3, Delta_u = 610.0417\n",
      "n = 4, Delta_u = 1342.0917\n",
      "n = 5, Delta_u = 2460.5014\n",
      "n = 6, Delta_u = 3866.5022\n",
      "n = 7, Delta_u = 5316.4405\n",
      "n = 8, Delta_u = 6497.8717\n",
      "n = 9, Delta_u = 7147.6589\n",
      "n = 10, Delta_u = 7147.6589\n",
      "n = 11, Delta_u = 6552.0207\n",
      "n = 12, Delta_u = 5544.0175\n",
      "n = 13, Delta_u = 4356.0137\n",
      "n = 14, Delta_u = 3194.4101\n",
      "n = 15, Delta_u = 2196.1569\n",
      "n = 16, Delta_u = 1421.0427\n",
      "n = 17, Delta_u = 868.4150\n",
      "n = 18, Delta_u = 502.7666\n",
      "n = 19, Delta_u = 276.5216\n",
      "n = 20, Delta_u = 144.8447\n",
      "n = 21, Delta_u = 72.4223\n",
      "n = 22, Delta_u = 34.6368\n",
      "n = 23, Delta_u = 15.8752\n",
      "n = 24, Delta_u = 6.9851\n",
      "n = 25, Delta_u = 2.9552\n",
      "n = 26, Delta_u = 1.2040\n",
      "n = 27, Delta_u = 0.4730\n",
      "n = 28, Delta_u = 0.1794\n",
      "n = 29, Delta_u = 0.0658\n",
      "n = 30, Delta_u = 0.0233\n",
      "n = 31, Delta_u = 0.0080\n",
      "n = 32, Delta_u = 0.0027\n",
      "n = 33, Delta_u = 0.0009\n",
      "Искомое n = 33\n"
     ]
    }
   ],
   "source": [
    "Delta_t = 10 ** (-3)\n",
    "n = 0\n",
    "Delta_u = 11  # ошибка при n = 0\n",
    "while Delta_u > Delta_t:\n",
    "    n += 1\n",
    "    Delta_u *= 11 / (n + 1)\n",
    "    print(f\"n = {n}, Delta_u = {Delta_u:.4f}\")\n",
    "print(f\"Искомое n = {n}\")"
   ]
  },
  {
   "cell_type": "markdown",
   "metadata": {},
   "source": [
    "## Улучшение $\\sin t$\n",
    "$\\sin t, t \\in [10; 11]$\\\n",
    "$-\\sin t, t \\in [10 - 3\\pi; 11 - 3\\pi]; -\\sin t = -\\cos (t - \\pi/2)$\\\n",
    "$-\\cos (t - \\pi/2), (t - \\pi/2) \\in [10 - 7\\pi/2; 11 - 7\\pi/2] \\subset [-1; 0]$\\\n",
    "т.е. функцию $\\sin t$ можно вычислить как фунцию $-\\cos t$ на отрезке $t \\in [-1; 0]$, в этом случае верна оценка из пункта 1\\\n",
    "$|\\Delta u| \\leq \\left| \\dfrac{1}{(n+1)!} \\right| \\leq \\Delta t$"
   ]
  },
  {
   "cell_type": "code",
   "execution_count": 4,
   "metadata": {},
   "outputs": [
    {
     "name": "stdout",
     "output_type": "stream",
     "text": [
      "n = 1, Delta_u = 0.5000\n",
      "n = 2, Delta_u = 0.1667\n",
      "n = 3, Delta_u = 0.0417\n",
      "n = 4, Delta_u = 0.0083\n",
      "n = 5, Delta_u = 0.0014\n",
      "n = 6, Delta_u = 0.0002\n",
      "Искомое n = 6\n"
     ]
    }
   ],
   "source": [
    "Delta_t = 10 ** (-3)\n",
    "n = 0\n",
    "Delta_u = 1  # ошибка при n = 0\n",
    "while Delta_u > Delta_t:\n",
    "    n += 1\n",
    "    Delta_u /= (n + 1)\n",
    "    print(f\"n = {n}, Delta_u = {Delta_u:.4f}\")\n",
    "print(f\"Искомое n = {n}\")"
   ]
  },
  {
   "cell_type": "markdown",
   "metadata": {},
   "source": [
    "## Улучшение $e^t$"
   ]
  },
  {
   "cell_type": "markdown",
   "metadata": {},
   "source": [
    "Воспользуемся разложением в ряд Маклорена в окрестности точки $t = 10.5$\\\n",
    "$|\\Delta u| \\leq \\left| \\dfrac{u^{(n+1)}(10.5)}{(n+1)!} (0.5)^{n+1} \\right| \\leq \\left| \\dfrac{3^{10.5}}{(n+1)!} (0.5)^{n+1} \\right|$"
   ]
  },
  {
   "cell_type": "code",
   "execution_count": 5,
   "metadata": {},
   "outputs": [
    {
     "name": "stdout",
     "output_type": "stream",
     "text": [
      "n = 1, Delta_u = 12784.4835\n",
      "n = 2, Delta_u = 2130.7473\n",
      "n = 3, Delta_u = 266.3434\n",
      "n = 4, Delta_u = 26.6343\n",
      "n = 5, Delta_u = 2.2195\n",
      "n = 6, Delta_u = 0.1585\n",
      "n = 7, Delta_u = 0.0099\n",
      "n = 8, Delta_u = 0.0006\n",
      "Искомое n = 8\n"
     ]
    }
   ],
   "source": [
    "Delta_t = 10 ** (-3)\n",
    "n = 0\n",
    "Delta_u = 3 ** 10.5 * 0.5  # ошибка при n = 0\n",
    "while Delta_u > Delta_t:\n",
    "    n += 1\n",
    "    Delta_u *= 0.5 / (n + 1)\n",
    "    print(f\"n = {n}, Delta_u = {Delta_u:.4f}\")\n",
    "print(f\"Искомое n = {n}\")"
   ]
  }
 ],
 "metadata": {
  "kernelspec": {
   "display_name": "Python 3",
   "language": "python",
   "name": "python3"
  },
  "language_info": {
   "codemirror_mode": {
    "name": "ipython",
    "version": 3
   },
   "file_extension": ".py",
   "mimetype": "text/x-python",
   "name": "python",
   "nbconvert_exporter": "python",
   "pygments_lexer": "ipython3",
   "version": "3.10.12"
  }
 },
 "nbformat": 4,
 "nbformat_minor": 2
}
