{
 "cells": [
  {
   "cell_type": "markdown",
   "metadata": {},
   "source": [
    "# VI.9.32"
   ]
  },
  {
   "cell_type": "markdown",
   "metadata": {},
   "source": [
    "Начальные данные"
   ]
  },
  {
   "cell_type": "code",
   "execution_count": 44,
   "metadata": {},
   "outputs": [],
   "source": [
    "x_arr = [1910 + 10 * i for i in range(10)]\n",
    "f_arr = [92228496, 106021537, 123202624, 132164569, 151325798, 179323175, 203211926, 226545805, 248709873, 281421906]"
   ]
  },
  {
   "cell_type": "markdown",
   "metadata": {},
   "source": [
    "## Интерполянт в форме Ньютона"
   ]
  },
  {
   "cell_type": "markdown",
   "metadata": {},
   "source": [
    "Вычисление разделенных разностей\\\n",
    "$f_N = [f_{0}, f_{01}, f_{012}, ..., f_{012...N-1}],$ где $N$ - количество узлов"
   ]
  },
  {
   "cell_type": "code",
   "execution_count": 45,
   "metadata": {},
   "outputs": [],
   "source": [
    "f_N = [i for i in f_arr]\n",
    "N = len(x_arr)\n",
    "for i in range(1, N, 1):\n",
    "    for j in range(N - 1, i - 1, -1):\n",
    "        f_N[j] = (f_N[j] - f_N[j - 1]) / (x_arr[j] - x_arr[j - i])"
   ]
  },
  {
   "cell_type": "markdown",
   "metadata": {},
   "source": [
    "Вычисление интерполянта в точке $x$"
   ]
  },
  {
   "cell_type": "code",
   "execution_count": 47,
   "metadata": {},
   "outputs": [
    {
     "name": "stdout",
     "output_type": "stream",
     "text": [
      "Экстраполированное значение численности населения в 2010 году: 827906509 человек\n"
     ]
    }
   ],
   "source": [
    "x = 2010\n",
    "P_N = 0  # значение полинома в точке x\n",
    "Poly_x = 1  # множитель перед разделенной разностью в полиноме\n",
    "for i in range(N):\n",
    "    if i > 0:\n",
    "        Poly_x *= (x - x_arr[i - 1])\n",
    "    P_N += f_N[i] * Poly_x\n",
    "print(f\"Экстраполированное значение численности населения в 2010 году: {P_N:.0f} человек\")"
   ]
  },
  {
   "cell_type": "markdown",
   "metadata": {},
   "source": [
    "Экстраполированное значение: 827 906 509\\\n",
    "Точное значение: 308 745 538"
   ]
  }
 ],
 "metadata": {
  "kernelspec": {
   "display_name": "Python 3",
   "language": "python",
   "name": "python3"
  },
  "language_info": {
   "codemirror_mode": {
    "name": "ipython",
    "version": 3
   },
   "file_extension": ".py",
   "mimetype": "text/x-python",
   "name": "python",
   "nbconvert_exporter": "python",
   "pygments_lexer": "ipython3",
   "version": "3.10.12"
  }
 },
 "nbformat": 4,
 "nbformat_minor": 2
}
